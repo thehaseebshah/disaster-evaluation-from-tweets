{
 "cells": [
  {
   "cell_type": "code",
   "execution_count": 1,
   "metadata": {
    "_cell_guid": "b1076dfc-b9ad-4769-8c92-a6c4dae69d19",
    "_uuid": "8f2839f25d086af736a60e9eeb907d3b93b6e0e5",
    "execution": {
     "iopub.execute_input": "2020-08-15T17:26:21.482519Z",
     "iopub.status.busy": "2020-08-15T17:26:21.481397Z",
     "iopub.status.idle": "2020-08-15T17:26:21.488351Z",
     "shell.execute_reply": "2020-08-15T17:26:21.487258Z"
    },
    "papermill": {
     "duration": 0.030696,
     "end_time": "2020-08-15T17:26:21.488564",
     "exception": false,
     "start_time": "2020-08-15T17:26:21.457868",
     "status": "completed"
    },
    "tags": []
   },
   "outputs": [
    {
     "name": "stdout",
     "output_type": "stream",
     "text": [
      "/kaggle/input/nlp-getting-started/train.csv\n",
      "/kaggle/input/nlp-getting-started/test.csv\n",
      "/kaggle/input/nlp-getting-started/sample_submission.csv\n"
     ]
    }
   ],
   "source": [
    "# This Python 3 environment comes with many helpful analytics libraries installed\n",
    "# It is defined by the kaggle/python Docker image: https://github.com/kaggle/docker-python\n",
    "# For example, here's several helpful packages to load\n",
    "\n",
    "import numpy as np # linear algebra\n",
    "import pandas as pd # data processing, CSV file I/O (e.g. pd.read_csv)\n",
    "\n",
    "# Input data files are available in the read-only \"../input/\" directory\n",
    "# For example, running this (by clicking run or pressing Shift+Enter) will list all files under the input directory\n",
    "\n",
    "import os\n",
    "for dirname, _, filenames in os.walk('/kaggle/input'):\n",
    "    for filename in filenames:\n",
    "        print(os.path.join(dirname, filename))\n",
    "\n",
    "# You can write up to 5GB to the current directory (/kaggle/working/) that gets preserved as output when you create a version using \"Save & Run All\" \n",
    "# You can also write temporary files to /kaggle/temp/, but they won't be saved outside of the current session"
   ]
  },
  {
   "cell_type": "code",
   "execution_count": 2,
   "metadata": {
    "_cell_guid": "79c7e3d0-c299-4dcb-8224-4455121ee9b0",
    "_uuid": "d629ff2d2480ee46fbb7e2d37f6b5fab8052498a",
    "execution": {
     "iopub.execute_input": "2020-08-15T17:26:21.527184Z",
     "iopub.status.busy": "2020-08-15T17:26:21.526330Z",
     "iopub.status.idle": "2020-08-15T17:26:21.591719Z",
     "shell.execute_reply": "2020-08-15T17:26:21.590939Z"
    },
    "papermill": {
     "duration": 0.088111,
     "end_time": "2020-08-15T17:26:21.591881",
     "exception": false,
     "start_time": "2020-08-15T17:26:21.503770",
     "status": "completed"
    },
    "tags": []
   },
   "outputs": [
    {
     "data": {
      "text/html": [
       "<div>\n",
       "<style scoped>\n",
       "    .dataframe tbody tr th:only-of-type {\n",
       "        vertical-align: middle;\n",
       "    }\n",
       "\n",
       "    .dataframe tbody tr th {\n",
       "        vertical-align: top;\n",
       "    }\n",
       "\n",
       "    .dataframe thead th {\n",
       "        text-align: right;\n",
       "    }\n",
       "</style>\n",
       "<table border=\"1\" class=\"dataframe\">\n",
       "  <thead>\n",
       "    <tr style=\"text-align: right;\">\n",
       "      <th></th>\n",
       "      <th>id</th>\n",
       "      <th>keyword</th>\n",
       "      <th>location</th>\n",
       "      <th>text</th>\n",
       "      <th>target</th>\n",
       "    </tr>\n",
       "  </thead>\n",
       "  <tbody>\n",
       "    <tr>\n",
       "      <th>0</th>\n",
       "      <td>1</td>\n",
       "      <td>NaN</td>\n",
       "      <td>NaN</td>\n",
       "      <td>Our Deeds are the Reason of this #earthquake M...</td>\n",
       "      <td>1</td>\n",
       "    </tr>\n",
       "    <tr>\n",
       "      <th>1</th>\n",
       "      <td>4</td>\n",
       "      <td>NaN</td>\n",
       "      <td>NaN</td>\n",
       "      <td>Forest fire near La Ronge Sask. Canada</td>\n",
       "      <td>1</td>\n",
       "    </tr>\n",
       "    <tr>\n",
       "      <th>2</th>\n",
       "      <td>5</td>\n",
       "      <td>NaN</td>\n",
       "      <td>NaN</td>\n",
       "      <td>All residents asked to 'shelter in place' are ...</td>\n",
       "      <td>1</td>\n",
       "    </tr>\n",
       "    <tr>\n",
       "      <th>3</th>\n",
       "      <td>6</td>\n",
       "      <td>NaN</td>\n",
       "      <td>NaN</td>\n",
       "      <td>13,000 people receive #wildfires evacuation or...</td>\n",
       "      <td>1</td>\n",
       "    </tr>\n",
       "    <tr>\n",
       "      <th>4</th>\n",
       "      <td>7</td>\n",
       "      <td>NaN</td>\n",
       "      <td>NaN</td>\n",
       "      <td>Just got sent this photo from Ruby #Alaska as ...</td>\n",
       "      <td>1</td>\n",
       "    </tr>\n",
       "  </tbody>\n",
       "</table>\n",
       "</div>"
      ],
      "text/plain": [
       "   id keyword location                                               text  \\\n",
       "0   1     NaN      NaN  Our Deeds are the Reason of this #earthquake M...   \n",
       "1   4     NaN      NaN             Forest fire near La Ronge Sask. Canada   \n",
       "2   5     NaN      NaN  All residents asked to 'shelter in place' are ...   \n",
       "3   6     NaN      NaN  13,000 people receive #wildfires evacuation or...   \n",
       "4   7     NaN      NaN  Just got sent this photo from Ruby #Alaska as ...   \n",
       "\n",
       "   target  \n",
       "0       1  \n",
       "1       1  \n",
       "2       1  \n",
       "3       1  \n",
       "4       1  "
      ]
     },
     "execution_count": 2,
     "metadata": {},
     "output_type": "execute_result"
    }
   ],
   "source": [
    "train = pd.read_csv('../input/nlp-getting-started/train.csv')\n",
    "train.head()"
   ]
  },
  {
   "cell_type": "code",
   "execution_count": 3,
   "metadata": {
    "execution": {
     "iopub.execute_input": "2020-08-15T17:26:21.631673Z",
     "iopub.status.busy": "2020-08-15T17:26:21.630536Z",
     "iopub.status.idle": "2020-08-15T17:26:21.636496Z",
     "shell.execute_reply": "2020-08-15T17:26:21.635818Z"
    },
    "papermill": {
     "duration": 0.027143,
     "end_time": "2020-08-15T17:26:21.636652",
     "exception": false,
     "start_time": "2020-08-15T17:26:21.609509",
     "status": "completed"
    },
    "tags": []
   },
   "outputs": [
    {
     "data": {
      "text/plain": [
       "(7613, 5)"
      ]
     },
     "execution_count": 3,
     "metadata": {},
     "output_type": "execute_result"
    }
   ],
   "source": [
    "#Understand the dataset\n",
    "train.shape"
   ]
  },
  {
   "cell_type": "code",
   "execution_count": 4,
   "metadata": {
    "execution": {
     "iopub.execute_input": "2020-08-15T17:26:21.677636Z",
     "iopub.status.busy": "2020-08-15T17:26:21.676705Z",
     "iopub.status.idle": "2020-08-15T17:26:21.696034Z",
     "shell.execute_reply": "2020-08-15T17:26:21.696658Z"
    },
    "papermill": {
     "duration": 0.045105,
     "end_time": "2020-08-15T17:26:21.696883",
     "exception": false,
     "start_time": "2020-08-15T17:26:21.651778",
     "status": "completed"
    },
    "tags": []
   },
   "outputs": [
    {
     "name": "stdout",
     "output_type": "stream",
     "text": [
      "<class 'pandas.core.frame.DataFrame'>\n",
      "RangeIndex: 7613 entries, 0 to 7612\n",
      "Data columns (total 5 columns):\n",
      " #   Column    Non-Null Count  Dtype \n",
      "---  ------    --------------  ----- \n",
      " 0   id        7613 non-null   int64 \n",
      " 1   keyword   7552 non-null   object\n",
      " 2   location  5080 non-null   object\n",
      " 3   text      7613 non-null   object\n",
      " 4   target    7613 non-null   int64 \n",
      "dtypes: int64(2), object(3)\n",
      "memory usage: 297.5+ KB\n"
     ]
    }
   ],
   "source": [
    "#summary of the dataset\n",
    "train.info()"
   ]
  },
  {
   "cell_type": "markdown",
   "execution_count": null,
   "metadata": {
    "papermill": {
     "duration": 0.015605,
     "end_time": "2020-08-15T17:26:21.728646",
     "exception": false,
     "start_time": "2020-08-15T17:26:21.713041",
     "status": "completed"
    },
    "tags": []
   },
   "source": [
    "Location columns contains more missing values, filling them will add bias to our model. We will ignore the column\n",
    "Keyword will not be informative as we will be extracting tokens from main text column. Hence, keyword column is nothing but duplicate"
   ]
  },
  {
   "cell_type": "code",
   "execution_count": 5,
   "metadata": {
    "execution": {
     "iopub.execute_input": "2020-08-15T17:26:21.770124Z",
     "iopub.status.busy": "2020-08-15T17:26:21.769242Z",
     "iopub.status.idle": "2020-08-15T17:26:21.773305Z",
     "shell.execute_reply": "2020-08-15T17:26:21.772513Z"
    },
    "papermill": {
     "duration": 0.029011,
     "end_time": "2020-08-15T17:26:21.773448",
     "exception": false,
     "start_time": "2020-08-15T17:26:21.744437",
     "status": "completed"
    },
    "tags": []
   },
   "outputs": [],
   "source": [
    "#drop keyword, location columns from dataset\n",
    "train= train.drop(['keyword', 'location'], axis=1)"
   ]
  },
  {
   "cell_type": "code",
   "execution_count": 6,
   "metadata": {
    "execution": {
     "iopub.execute_input": "2020-08-15T17:26:21.814097Z",
     "iopub.status.busy": "2020-08-15T17:26:21.813187Z",
     "iopub.status.idle": "2020-08-15T17:26:21.845415Z",
     "shell.execute_reply": "2020-08-15T17:26:21.844541Z"
    },
    "papermill": {
     "duration": 0.056145,
     "end_time": "2020-08-15T17:26:21.845559",
     "exception": false,
     "start_time": "2020-08-15T17:26:21.789414",
     "status": "completed"
    },
    "tags": []
   },
   "outputs": [
    {
     "data": {
      "text/plain": [
       "0    0.57034\n",
       "1    0.42966\n",
       "Name: target, dtype: float64"
      ]
     },
     "execution_count": 6,
     "metadata": {},
     "output_type": "execute_result"
    }
   ],
   "source": [
    "# Find the number of positive and negative classes\n",
    "train.target.value_counts()\n",
    "\n",
    "train.target.value_counts() / len(train)"
   ]
  },
  {
   "cell_type": "markdown",
   "execution_count": null,
   "metadata": {
    "papermill": {
     "duration": 0.015256,
     "end_time": "2020-08-15T17:26:21.876732",
     "exception": false,
     "start_time": "2020-08-15T17:26:21.861476",
     "status": "completed"
    },
    "tags": []
   },
   "source": [
    "Target Label is imbalanced"
   ]
  },
  {
   "cell_type": "markdown",
   "execution_count": null,
   "metadata": {
    "papermill": {
     "duration": 0.015576,
     "end_time": "2020-08-15T17:26:21.908116",
     "exception": false,
     "start_time": "2020-08-15T17:26:21.892540",
     "status": "completed"
    },
    "tags": []
   },
   "source": [
    "#### WordCloud on Text"
   ]
  },
  {
   "cell_type": "code",
   "execution_count": 7,
   "metadata": {
    "execution": {
     "iopub.execute_input": "2020-08-15T17:26:21.950416Z",
     "iopub.status.busy": "2020-08-15T17:26:21.949492Z",
     "iopub.status.idle": "2020-08-15T17:26:22.100067Z",
     "shell.execute_reply": "2020-08-15T17:26:22.099295Z"
    },
    "papermill": {
     "duration": 0.176214,
     "end_time": "2020-08-15T17:26:22.100221",
     "exception": false,
     "start_time": "2020-08-15T17:26:21.924007",
     "status": "completed"
    },
    "tags": []
   },
   "outputs": [],
   "source": [
    "# importing all necessery modules \n",
    "from wordcloud import WordCloud, STOPWORDS \n",
    "import matplotlib.pyplot as plt \n",
    "\n",
    "stopwords = set(STOPWORDS)\n",
    "\n",
    "tweet_words= ''\n",
    "\n",
    "# iterate through the csv file \n",
    "for val in train.text: \n",
    "      \n",
    "    # typecaste each val to string \n",
    "    val = str(val) \n",
    "  \n",
    "    # split the value \n",
    "    tokens = val.split() \n",
    "      \n",
    "    # Converts each token into lowercase \n",
    "    for i in range(len(tokens)): \n",
    "        tokens[i] = tokens[i].lower() \n",
    "      \n",
    "    tweet_words += \" \".join(tokens)+\" \""
   ]
  },
  {
   "cell_type": "code",
   "execution_count": 8,
   "metadata": {
    "execution": {
     "iopub.execute_input": "2020-08-15T17:26:22.141556Z",
     "iopub.status.busy": "2020-08-15T17:26:22.140561Z",
     "iopub.status.idle": "2020-08-15T17:26:25.414958Z",
     "shell.execute_reply": "2020-08-15T17:26:25.415588Z"
    },
    "papermill": {
     "duration": 3.299211,
     "end_time": "2020-08-15T17:26:25.415781",
     "exception": false,
     "start_time": "2020-08-15T17:26:22.116570",
     "status": "completed"
    },
    "tags": []
   },
   "outputs": [
    {
     "data": {
      "image/png": "[encoded data removed]",
      "text/plain": [
       "<Figure size 720x432 with 1 Axes>"
      ]
     },
     "metadata": {
      "needs_background": "light"
     },
     "output_type": "display_data"
    }
   ],
   "source": [
    "plt.figure(figsize=(10,6))\n",
    "wordcloud = WordCloud(width = 800, height = 800, \n",
    "                background_color ='white', \n",
    "                stopwords = stopwords, \n",
    "                min_font_size = 10).generate(tweet_words) \n",
    "plt.imshow(wordcloud) \n",
    "plt.axis(\"off\") \n",
    "  \n",
    "plt.show() "
   ]
  },
  {
   "cell_type": "markdown",
   "execution_count": null,
   "metadata": {
    "papermill": {
     "duration": 0.017876,
     "end_time": "2020-08-15T17:26:25.451612",
     "exception": false,
     "start_time": "2020-08-15T17:26:25.433736",
     "status": "completed"
    },
    "tags": []
   },
   "source": [
    "https, co are resultant of hyperlinks displayed bigger and bolder in wordcloud. These words cannot be part of vocabulary tokens"
   ]
  },
  {
   "cell_type": "markdown",
   "execution_count": null,
   "metadata": {
    "papermill": {
     "duration": 0.017518,
     "end_time": "2020-08-15T17:26:25.487184",
     "exception": false,
     "start_time": "2020-08-15T17:26:25.469666",
     "status": "completed"
    },
    "tags": []
   },
   "source": [
    "### Feature Creation"
   ]
  },
  {
   "cell_type": "code",
   "execution_count": 9,
   "metadata": {
    "execution": {
     "iopub.execute_input": "2020-08-15T17:26:25.533885Z",
     "iopub.status.busy": "2020-08-15T17:26:25.532981Z",
     "iopub.status.idle": "2020-08-15T17:26:31.184797Z",
     "shell.execute_reply": "2020-08-15T17:26:31.183985Z"
    },
    "papermill": {
     "duration": 5.679371,
     "end_time": "2020-08-15T17:26:31.184973",
     "exception": false,
     "start_time": "2020-08-15T17:26:25.505602",
     "status": "completed"
    },
    "tags": []
   },
   "outputs": [
    {
     "data": {
      "text/html": [
       "<div>\n",
       "<style scoped>\n",
       "    .dataframe tbody tr th:only-of-type {\n",
       "        vertical-align: middle;\n",
       "    }\n",
       "\n",
       "    .dataframe tbody tr th {\n",
       "        vertical-align: top;\n",
       "    }\n",
       "\n",
       "    .dataframe thead th {\n",
       "        text-align: right;\n",
       "    }\n",
       "</style>\n",
       "<table border=\"1\" class=\"dataframe\">\n",
       "  <thead>\n",
       "    <tr style=\"text-align: right;\">\n",
       "      <th></th>\n",
       "      <th>id</th>\n",
       "      <th>text</th>\n",
       "      <th>target</th>\n",
       "      <th>text_stemmed</th>\n",
       "    </tr>\n",
       "  </thead>\n",
       "  <tbody>\n",
       "    <tr>\n",
       "      <th>0</th>\n",
       "      <td>1</td>\n",
       "      <td>Our Deeds are the Reason of this #earthquake M...</td>\n",
       "      <td>1</td>\n",
       "      <td>our deed are the reason of thi #earthquak may ...</td>\n",
       "    </tr>\n",
       "    <tr>\n",
       "      <th>1</th>\n",
       "      <td>4</td>\n",
       "      <td>Forest fire near La Ronge Sask. Canada</td>\n",
       "      <td>1</td>\n",
       "      <td>forest fire near La rong sask. canada</td>\n",
       "    </tr>\n",
       "    <tr>\n",
       "      <th>2</th>\n",
       "      <td>5</td>\n",
       "      <td>All residents asked to 'shelter in place' are ...</td>\n",
       "      <td>1</td>\n",
       "      <td>all resid ask to 'shelter in place' are be not...</td>\n",
       "    </tr>\n",
       "    <tr>\n",
       "      <th>3</th>\n",
       "      <td>6</td>\n",
       "      <td>13,000 people receive #wildfires evacuation or...</td>\n",
       "      <td>1</td>\n",
       "      <td>13,000 peopl receiv #wildfir evacu order in ca...</td>\n",
       "    </tr>\n",
       "    <tr>\n",
       "      <th>4</th>\n",
       "      <td>7</td>\n",
       "      <td>Just got sent this photo from Ruby #Alaska as ...</td>\n",
       "      <td>1</td>\n",
       "      <td>just got sent thi photo from rubi #alaska as s...</td>\n",
       "    </tr>\n",
       "  </tbody>\n",
       "</table>\n",
       "</div>"
      ],
      "text/plain": [
       "   id                                               text  target  \\\n",
       "0   1  Our Deeds are the Reason of this #earthquake M...       1   \n",
       "1   4             Forest fire near La Ronge Sask. Canada       1   \n",
       "2   5  All residents asked to 'shelter in place' are ...       1   \n",
       "3   6  13,000 people receive #wildfires evacuation or...       1   \n",
       "4   7  Just got sent this photo from Ruby #Alaska as ...       1   \n",
       "\n",
       "                                        text_stemmed  \n",
       "0  our deed are the reason of thi #earthquak may ...  \n",
       "1              forest fire near La rong sask. canada  \n",
       "2  all resid ask to 'shelter in place' are be not...  \n",
       "3  13,000 peopl receiv #wildfir evacu order in ca...  \n",
       "4  just got sent thi photo from rubi #alaska as s...  "
      ]
     },
     "execution_count": 9,
     "metadata": {},
     "output_type": "execute_result"
    }
   ],
   "source": [
    "# Import the required packages from nltk\n",
    "import nltk\n",
    "from nltk.corpus import wordnet\n",
    "from nltk.stem import PorterStemmer, WordNetLemmatizer\n",
    "from nltk import word_tokenize\n",
    "\n",
    "porter= PorterStemmer()\n",
    "WNlemmatizer= WordNetLemmatizer()\n",
    "\n",
    "# Transform the array of tweets to stemmed words\n",
    "def stem_words(text):\n",
    "    return \" \".join([porter.stem(word) for word in text.split()])\n",
    "\n",
    "train[\"text_stemmed\"] = train[\"text\"].apply(lambda text: stem_words(text))\n",
    "train.head()"
   ]
  },
  {
   "cell_type": "code",
   "execution_count": 10,
   "metadata": {
    "execution": {
     "iopub.execute_input": "2020-08-15T17:26:31.234412Z",
     "iopub.status.busy": "2020-08-15T17:26:31.233482Z",
     "iopub.status.idle": "2020-08-15T17:26:46.132052Z",
     "shell.execute_reply": "2020-08-15T17:26:46.131100Z"
    },
    "papermill": {
     "duration": 14.928441,
     "end_time": "2020-08-15T17:26:46.132224",
     "exception": false,
     "start_time": "2020-08-15T17:26:31.203783",
     "status": "completed"
    },
    "tags": []
   },
   "outputs": [
    {
     "data": {
      "text/html": [
       "<div>\n",
       "<style scoped>\n",
       "    .dataframe tbody tr th:only-of-type {\n",
       "        vertical-align: middle;\n",
       "    }\n",
       "\n",
       "    .dataframe tbody tr th {\n",
       "        vertical-align: top;\n",
       "    }\n",
       "\n",
       "    .dataframe thead th {\n",
       "        text-align: right;\n",
       "    }\n",
       "</style>\n",
       "<table border=\"1\" class=\"dataframe\">\n",
       "  <thead>\n",
       "    <tr style=\"text-align: right;\">\n",
       "      <th></th>\n",
       "      <th>id</th>\n",
       "      <th>text</th>\n",
       "      <th>target</th>\n",
       "      <th>text_stemmed</th>\n",
       "      <th>text_lemmatized</th>\n",
       "    </tr>\n",
       "  </thead>\n",
       "  <tbody>\n",
       "    <tr>\n",
       "      <th>0</th>\n",
       "      <td>1</td>\n",
       "      <td>Our Deeds are the Reason of this #earthquake M...</td>\n",
       "      <td>1</td>\n",
       "      <td>our deed are the reason of thi #earthquak may ...</td>\n",
       "      <td>Our Deeds be the Reason of this #earthquake Ma...</td>\n",
       "    </tr>\n",
       "    <tr>\n",
       "      <th>1</th>\n",
       "      <td>4</td>\n",
       "      <td>Forest fire near La Ronge Sask. Canada</td>\n",
       "      <td>1</td>\n",
       "      <td>forest fire near La rong sask. canada</td>\n",
       "      <td>Forest fire near La Ronge Sask. Canada</td>\n",
       "    </tr>\n",
       "    <tr>\n",
       "      <th>2</th>\n",
       "      <td>5</td>\n",
       "      <td>All residents asked to 'shelter in place' are ...</td>\n",
       "      <td>1</td>\n",
       "      <td>all resid ask to 'shelter in place' are be not...</td>\n",
       "      <td>All resident ask to 'shelter in place' be be n...</td>\n",
       "    </tr>\n",
       "    <tr>\n",
       "      <th>3</th>\n",
       "      <td>6</td>\n",
       "      <td>13,000 people receive #wildfires evacuation or...</td>\n",
       "      <td>1</td>\n",
       "      <td>13,000 peopl receiv #wildfir evacu order in ca...</td>\n",
       "      <td>13,000 people receive #wildfires evacuation or...</td>\n",
       "    </tr>\n",
       "    <tr>\n",
       "      <th>4</th>\n",
       "      <td>7</td>\n",
       "      <td>Just got sent this photo from Ruby #Alaska as ...</td>\n",
       "      <td>1</td>\n",
       "      <td>just got sent thi photo from rubi #alaska as s...</td>\n",
       "      <td>Just get send this photo from Ruby #Alaska a s...</td>\n",
       "    </tr>\n",
       "  </tbody>\n",
       "</table>\n",
       "</div>"
      ],
      "text/plain": [
       "   id                                               text  target  \\\n",
       "0   1  Our Deeds are the Reason of this #earthquake M...       1   \n",
       "1   4             Forest fire near La Ronge Sask. Canada       1   \n",
       "2   5  All residents asked to 'shelter in place' are ...       1   \n",
       "3   6  13,000 people receive #wildfires evacuation or...       1   \n",
       "4   7  Just got sent this photo from Ruby #Alaska as ...       1   \n",
       "\n",
       "                                        text_stemmed  \\\n",
       "0  our deed are the reason of thi #earthquak may ...   \n",
       "1              forest fire near La rong sask. canada   \n",
       "2  all resid ask to 'shelter in place' are be not...   \n",
       "3  13,000 peopl receiv #wildfir evacu order in ca...   \n",
       "4  just got sent thi photo from rubi #alaska as s...   \n",
       "\n",
       "                                     text_lemmatized  \n",
       "0  Our Deeds be the Reason of this #earthquake Ma...  \n",
       "1             Forest fire near La Ronge Sask. Canada  \n",
       "2  All resident ask to 'shelter in place' be be n...  \n",
       "3  13,000 people receive #wildfires evacuation or...  \n",
       "4  Just get send this photo from Ruby #Alaska a s...  "
      ]
     },
     "execution_count": 10,
     "metadata": {},
     "output_type": "execute_result"
    }
   ],
   "source": [
    "# Transform the array of tweets to lemmatized words\n",
    "wordnet_map = {\"N\":wordnet.NOUN, \"V\":wordnet.VERB, \"J\":wordnet.ADJ, \"R\":wordnet.ADV}\n",
    "\n",
    "def lemmatize_words(text):\n",
    "    pos_tagged_text = nltk.pos_tag(text.split())\n",
    "    return \" \".join([WNlemmatizer.lemmatize(word, wordnet_map.get(pos[0], wordnet.NOUN)) for word, pos in pos_tagged_text])\n",
    "\n",
    "train[\"text_lemmatized\"] = train[\"text\"].apply(lambda text: lemmatize_words(text))\n",
    "\n",
    "train.head()"
   ]
  },
  {
   "cell_type": "code",
   "execution_count": 11,
   "metadata": {
    "execution": {
     "iopub.execute_input": "2020-08-15T17:26:46.178306Z",
     "iopub.status.busy": "2020-08-15T17:26:46.177104Z",
     "iopub.status.idle": "2020-08-15T17:26:46.181320Z",
     "shell.execute_reply": "2020-08-15T17:26:46.180602Z"
    },
    "papermill": {
     "duration": 0.030189,
     "end_time": "2020-08-15T17:26:46.181480",
     "exception": false,
     "start_time": "2020-08-15T17:26:46.151291",
     "status": "completed"
    },
    "tags": []
   },
   "outputs": [],
   "source": [
    "#seperate independent and outcome variable\n",
    "X= train['text_lemmatized']\n",
    "y= train['target']"
   ]
  },
  {
   "cell_type": "code",
   "execution_count": 12,
   "metadata": {
    "execution": {
     "iopub.execute_input": "2020-08-15T17:26:46.228501Z",
     "iopub.status.busy": "2020-08-15T17:26:46.227557Z",
     "iopub.status.idle": "2020-08-15T17:26:46.242879Z",
     "shell.execute_reply": "2020-08-15T17:26:46.241983Z"
    },
    "papermill": {
     "duration": 0.042625,
     "end_time": "2020-08-15T17:26:46.243060",
     "exception": false,
     "start_time": "2020-08-15T17:26:46.200435",
     "status": "completed"
    },
    "tags": []
   },
   "outputs": [],
   "source": [
    "# Import the necessary modules\n",
    "from sklearn.feature_extraction.text import CountVectorizer, TfidfVectorizer, ENGLISH_STOP_WORDS\n",
    "from sklearn.model_selection import train_test_split\n",
    "\n",
    "\n",
    "# Create training and test sets\n",
    "X_train, X_test, y_train, y_test = train_test_split(X, y, random_state=99, stratify=y)"
   ]
  },
  {
   "cell_type": "code",
   "execution_count": 13,
   "metadata": {
    "execution": {
     "iopub.execute_input": "2020-08-15T17:26:46.289058Z",
     "iopub.status.busy": "2020-08-15T17:26:46.287883Z",
     "iopub.status.idle": "2020-08-15T17:26:46.291996Z",
     "shell.execute_reply": "2020-08-15T17:26:46.291211Z"
    },
    "papermill": {
     "duration": 0.029654,
     "end_time": "2020-08-15T17:26:46.292141",
     "exception": false,
     "start_time": "2020-08-15T17:26:46.262487",
     "status": "completed"
    },
    "tags": []
   },
   "outputs": [],
   "source": [
    "# Define the stop words\n",
    "my_stop_words = ENGLISH_STOP_WORDS.union(['https', 'co', 'http', '@', '_', '__', '#'])"
   ]
  },
  {
   "cell_type": "code",
   "execution_count": 14,
   "metadata": {
    "execution": {
     "iopub.execute_input": "2020-08-15T17:26:46.360779Z",
     "iopub.status.busy": "2020-08-15T17:26:46.350088Z",
     "iopub.status.idle": "2020-08-15T17:26:46.775310Z",
     "shell.execute_reply": "2020-08-15T17:26:46.774606Z"
    },
    "papermill": {
     "duration": 0.463845,
     "end_time": "2020-08-15T17:26:46.775480",
     "exception": false,
     "start_time": "2020-08-15T17:26:46.311635",
     "status": "completed"
    },
    "tags": []
   },
   "outputs": [],
   "source": [
    "# Initialize a CountVectorizer object: count_vectorizer\n",
    "count_vectorizer = CountVectorizer(stop_words=my_stop_words, ngram_range=(1, 2), min_df=10, token_pattern=r'\\b[^\\d\\W][^\\d\\W]+\\b' )\n",
    "\n",
    "# Transform the training data using only the 'text' column values: count_train \n",
    "count_train = count_vectorizer.fit_transform(X_train)\n",
    "\n",
    "# Transform the test data using only the 'text' column values: count_test \n",
    "count_test = count_vectorizer.transform(X_test)"
   ]
  },
  {
   "cell_type": "markdown",
   "execution_count": null,
   "metadata": {
    "papermill": {
     "duration": 0.0187,
     "end_time": "2020-08-15T17:26:46.813235",
     "exception": false,
     "start_time": "2020-08-15T17:26:46.794535",
     "status": "completed"
    },
    "tags": []
   },
   "source": [
    "### Building a Logistic Regression classifier"
   ]
  },
  {
   "cell_type": "code",
   "execution_count": 15,
   "metadata": {
    "execution": {
     "iopub.execute_input": "2020-08-15T17:26:46.859371Z",
     "iopub.status.busy": "2020-08-15T17:26:46.858288Z",
     "iopub.status.idle": "2020-08-15T17:26:46.862606Z",
     "shell.execute_reply": "2020-08-15T17:26:46.861811Z"
    },
    "papermill": {
     "duration": 0.029935,
     "end_time": "2020-08-15T17:26:46.862750",
     "exception": false,
     "start_time": "2020-08-15T17:26:46.832815",
     "status": "completed"
    },
    "tags": []
   },
   "outputs": [],
   "source": [
    "from sklearn.linear_model import LogisticRegression\n",
    "from sklearn.metrics import accuracy_score, confusion_matrix, classification_report"
   ]
  },
  {
   "cell_type": "code",
   "execution_count": 16,
   "metadata": {
    "execution": {
     "iopub.execute_input": "2020-08-15T17:26:46.910816Z",
     "iopub.status.busy": "2020-08-15T17:26:46.909519Z",
     "iopub.status.idle": "2020-08-15T17:26:47.028512Z",
     "shell.execute_reply": "2020-08-15T17:26:47.027527Z"
    },
    "papermill": {
     "duration": 0.14702,
     "end_time": "2020-08-15T17:26:47.028725",
     "exception": false,
     "start_time": "2020-08-15T17:26:46.881705",
     "status": "completed"
    },
    "tags": []
   },
   "outputs": [
    {
     "name": "stdout",
     "output_type": "stream",
     "text": [
      "Accuracy on the test set:  0.7935924369747899\n",
      "[[0.50052521 0.06985294]\n",
      " [0.13655462 0.29306723]]\n"
     ]
    }
   ],
   "source": [
    "logreg= LogisticRegression(solver='lbfgs')\n",
    "\n",
    "logreg.fit(count_train, y_train)\n",
    "y_predicted= logreg.predict(count_test)\n",
    "\n",
    "# Print accuracy score and confusion matrix on test set\n",
    "print('Accuracy on the test set: ', accuracy_score(y_test, y_predicted))\n",
    "print(confusion_matrix(y_test, y_predicted)/len(y_test))"
   ]
  },
  {
   "cell_type": "code",
   "execution_count": 17,
   "metadata": {
    "execution": {
     "iopub.execute_input": "2020-08-15T17:26:47.079992Z",
     "iopub.status.busy": "2020-08-15T17:26:47.079107Z",
     "iopub.status.idle": "2020-08-15T17:26:47.087261Z",
     "shell.execute_reply": "2020-08-15T17:26:47.086400Z"
    },
    "papermill": {
     "duration": 0.036282,
     "end_time": "2020-08-15T17:26:47.087424",
     "exception": false,
     "start_time": "2020-08-15T17:26:47.051142",
     "status": "completed"
    },
    "tags": []
   },
   "outputs": [
    {
     "name": "stdout",
     "output_type": "stream",
     "text": [
      "Training set accuracy is: 0.8546155193554037\n",
      "Test set accuracy is: 0.7935924369747899\n"
     ]
    }
   ],
   "source": [
    "#accuracy of training and test set\n",
    "print(\"Training set accuracy is:\", logreg.score(count_train, y_train))\n",
    "print(\"Test set accuracy is:\", logreg.score(count_test, y_test))"
   ]
  },
  {
   "cell_type": "code",
   "execution_count": 18,
   "metadata": {
    "execution": {
     "iopub.execute_input": "2020-08-15T17:26:47.134044Z",
     "iopub.status.busy": "2020-08-15T17:26:47.133032Z",
     "iopub.status.idle": "2020-08-15T17:26:47.145939Z",
     "shell.execute_reply": "2020-08-15T17:26:47.146665Z"
    },
    "papermill": {
     "duration": 0.039462,
     "end_time": "2020-08-15T17:26:47.146866",
     "exception": false,
     "start_time": "2020-08-15T17:26:47.107404",
     "status": "completed"
    },
    "tags": []
   },
   "outputs": [
    {
     "name": "stdout",
     "output_type": "stream",
     "text": [
      "              precision    recall  f1-score   support\n",
      "\n",
      "           0       0.79      0.88      0.83      1086\n",
      "           1       0.81      0.68      0.74       818\n",
      "\n",
      "    accuracy                           0.79      1904\n",
      "   macro avg       0.80      0.78      0.78      1904\n",
      "weighted avg       0.80      0.79      0.79      1904\n",
      "\n"
     ]
    }
   ],
   "source": [
    "print(classification_report(y_test,y_predicted))"
   ]
  },
  {
   "cell_type": "markdown",
   "execution_count": null,
   "metadata": {
    "papermill": {
     "duration": 0.019139,
     "end_time": "2020-08-15T17:26:47.185699",
     "exception": false,
     "start_time": "2020-08-15T17:26:47.166560",
     "status": "completed"
    },
    "tags": []
   },
   "source": [
    "Model underfits on Test set"
   ]
  },
  {
   "cell_type": "markdown",
   "execution_count": null,
   "metadata": {
    "papermill": {
     "duration": 0.02053,
     "end_time": "2020-08-15T17:26:47.226591",
     "exception": false,
     "start_time": "2020-08-15T17:26:47.206061",
     "status": "completed"
    },
    "tags": []
   },
   "source": [
    "We will Train our training and test set with Naive Bayes model"
   ]
  },
  {
   "cell_type": "markdown",
   "execution_count": null,
   "metadata": {
    "papermill": {
     "duration": 0.018493,
     "end_time": "2020-08-15T17:26:47.264529",
     "exception": false,
     "start_time": "2020-08-15T17:26:47.246036",
     "status": "completed"
    },
    "tags": []
   },
   "source": [
    "## Naive Bayes Model"
   ]
  },
  {
   "cell_type": "code",
   "execution_count": 19,
   "metadata": {
    "execution": {
     "iopub.execute_input": "2020-08-15T17:26:47.309714Z",
     "iopub.status.busy": "2020-08-15T17:26:47.308749Z",
     "iopub.status.idle": "2020-08-15T17:26:47.327173Z",
     "shell.execute_reply": "2020-08-15T17:26:47.326427Z"
    },
    "papermill": {
     "duration": 0.043679,
     "end_time": "2020-08-15T17:26:47.327333",
     "exception": false,
     "start_time": "2020-08-15T17:26:47.283654",
     "status": "completed"
    },
    "tags": []
   },
   "outputs": [
    {
     "data": {
      "text/plain": [
       "MultinomialNB()"
      ]
     },
     "execution_count": 19,
     "metadata": {},
     "output_type": "execute_result"
    }
   ],
   "source": [
    "# Import the necessary modules\n",
    "from sklearn.naive_bayes import MultinomialNB\n",
    "\n",
    "# Instantiate a Multinomial Naive Bayes classifier: nb_classifier\n",
    "nb_classifier = MultinomialNB()\n",
    "\n",
    "# Fit the classifier to the training data\n",
    "nb_classifier.fit(count_train, y_train)"
   ]
  },
  {
   "cell_type": "code",
   "execution_count": 20,
   "metadata": {
    "execution": {
     "iopub.execute_input": "2020-08-15T17:26:47.374921Z",
     "iopub.status.busy": "2020-08-15T17:26:47.373772Z",
     "iopub.status.idle": "2020-08-15T17:26:47.380657Z",
     "shell.execute_reply": "2020-08-15T17:26:47.379981Z"
    },
    "papermill": {
     "duration": 0.033194,
     "end_time": "2020-08-15T17:26:47.380807",
     "exception": false,
     "start_time": "2020-08-15T17:26:47.347613",
     "status": "completed"
    },
    "tags": []
   },
   "outputs": [
    {
     "name": "stdout",
     "output_type": "stream",
     "text": [
      "0.7815126050420168\n"
     ]
    }
   ],
   "source": [
    "# Create the predicted tags: pred\n",
    "pred = nb_classifier.predict(count_test)\n",
    "\n",
    "# Calculate the accuracy score: score\n",
    "score = accuracy_score(y_test, pred)\n",
    "print(score)"
   ]
  },
  {
   "cell_type": "code",
   "execution_count": 21,
   "metadata": {
    "execution": {
     "iopub.execute_input": "2020-08-15T17:26:47.427991Z",
     "iopub.status.busy": "2020-08-15T17:26:47.427194Z",
     "iopub.status.idle": "2020-08-15T17:26:47.437592Z",
     "shell.execute_reply": "2020-08-15T17:26:47.436788Z"
    },
    "papermill": {
     "duration": 0.036887,
     "end_time": "2020-08-15T17:26:47.437762",
     "exception": false,
     "start_time": "2020-08-15T17:26:47.400875",
     "status": "completed"
    },
    "tags": []
   },
   "outputs": [
    {
     "name": "stdout",
     "output_type": "stream",
     "text": [
      "Training set accuracy is: 0.8078472587143107\n",
      "Test set accuracy is: 0.7815126050420168\n"
     ]
    }
   ],
   "source": [
    "#accuracy of training and test set\n",
    "print(\"Training set accuracy is:\", nb_classifier.score(count_train, y_train))\n",
    "print(\"Test set accuracy is:\", nb_classifier.score(count_test, y_test))"
   ]
  },
  {
   "cell_type": "markdown",
   "execution_count": null,
   "metadata": {
    "papermill": {
     "duration": 0.019798,
     "end_time": "2020-08-15T17:26:47.478272",
     "exception": false,
     "start_time": "2020-08-15T17:26:47.458474",
     "status": "completed"
    },
    "tags": []
   },
   "source": [
    "Though Model underfits on Test Set. The difference is less compared to LogisticRegression model"
   ]
  },
  {
   "cell_type": "markdown",
   "execution_count": null,
   "metadata": {
    "papermill": {
     "duration": 0.019719,
     "end_time": "2020-08-15T17:26:47.518195",
     "exception": false,
     "start_time": "2020-08-15T17:26:47.498476",
     "status": "completed"
    },
    "tags": []
   },
   "source": [
    "### Predict the test Dataset"
   ]
  },
  {
   "cell_type": "code",
   "execution_count": 22,
   "metadata": {
    "execution": {
     "iopub.execute_input": "2020-08-15T17:26:47.567587Z",
     "iopub.status.busy": "2020-08-15T17:26:47.566712Z",
     "iopub.status.idle": "2020-08-15T17:26:47.595279Z",
     "shell.execute_reply": "2020-08-15T17:26:47.594426Z"
    },
    "papermill": {
     "duration": 0.056822,
     "end_time": "2020-08-15T17:26:47.595434",
     "exception": false,
     "start_time": "2020-08-15T17:26:47.538612",
     "status": "completed"
    },
    "tags": []
   },
   "outputs": [
    {
     "data": {
      "text/html": [
       "<div>\n",
       "<style scoped>\n",
       "    .dataframe tbody tr th:only-of-type {\n",
       "        vertical-align: middle;\n",
       "    }\n",
       "\n",
       "    .dataframe tbody tr th {\n",
       "        vertical-align: top;\n",
       "    }\n",
       "\n",
       "    .dataframe thead th {\n",
       "        text-align: right;\n",
       "    }\n",
       "</style>\n",
       "<table border=\"1\" class=\"dataframe\">\n",
       "  <thead>\n",
       "    <tr style=\"text-align: right;\">\n",
       "      <th></th>\n",
       "      <th>id</th>\n",
       "      <th>keyword</th>\n",
       "      <th>location</th>\n",
       "      <th>text</th>\n",
       "    </tr>\n",
       "  </thead>\n",
       "  <tbody>\n",
       "    <tr>\n",
       "      <th>0</th>\n",
       "      <td>0</td>\n",
       "      <td>NaN</td>\n",
       "      <td>NaN</td>\n",
       "      <td>Just happened a terrible car crash</td>\n",
       "    </tr>\n",
       "    <tr>\n",
       "      <th>1</th>\n",
       "      <td>2</td>\n",
       "      <td>NaN</td>\n",
       "      <td>NaN</td>\n",
       "      <td>Heard about #earthquake is different cities, s...</td>\n",
       "    </tr>\n",
       "    <tr>\n",
       "      <th>2</th>\n",
       "      <td>3</td>\n",
       "      <td>NaN</td>\n",
       "      <td>NaN</td>\n",
       "      <td>there is a forest fire at spot pond, geese are...</td>\n",
       "    </tr>\n",
       "    <tr>\n",
       "      <th>3</th>\n",
       "      <td>9</td>\n",
       "      <td>NaN</td>\n",
       "      <td>NaN</td>\n",
       "      <td>Apocalypse lighting. #Spokane #wildfires</td>\n",
       "    </tr>\n",
       "    <tr>\n",
       "      <th>4</th>\n",
       "      <td>11</td>\n",
       "      <td>NaN</td>\n",
       "      <td>NaN</td>\n",
       "      <td>Typhoon Soudelor kills 28 in China and Taiwan</td>\n",
       "    </tr>\n",
       "  </tbody>\n",
       "</table>\n",
       "</div>"
      ],
      "text/plain": [
       "   id keyword location                                               text\n",
       "0   0     NaN      NaN                 Just happened a terrible car crash\n",
       "1   2     NaN      NaN  Heard about #earthquake is different cities, s...\n",
       "2   3     NaN      NaN  there is a forest fire at spot pond, geese are...\n",
       "3   9     NaN      NaN           Apocalypse lighting. #Spokane #wildfires\n",
       "4  11     NaN      NaN      Typhoon Soudelor kills 28 in China and Taiwan"
      ]
     },
     "execution_count": 22,
     "metadata": {},
     "output_type": "execute_result"
    }
   ],
   "source": [
    "#import and read test dataset\n",
    "test = pd.read_csv('../input/nlp-getting-started/test.csv')\n",
    "test.head()"
   ]
  },
  {
   "cell_type": "markdown",
   "execution_count": null,
   "metadata": {
    "papermill": {
     "duration": 0.019439,
     "end_time": "2020-08-15T17:26:47.635124",
     "exception": false,
     "start_time": "2020-08-15T17:26:47.615685",
     "status": "completed"
    },
    "tags": []
   },
   "source": [
    "Notice we dont have Target Label which we need to predict based on our Trained Logistic Regression model"
   ]
  },
  {
   "cell_type": "markdown",
   "execution_count": null,
   "metadata": {
    "papermill": {
     "duration": 0.019519,
     "end_time": "2020-08-15T17:26:47.674318",
     "exception": false,
     "start_time": "2020-08-15T17:26:47.654799",
     "status": "completed"
    },
    "tags": []
   },
   "source": [
    "Makesure to repeat similar transformation we did in Train Dataset"
   ]
  },
  {
   "cell_type": "code",
   "execution_count": 23,
   "metadata": {
    "execution": {
     "iopub.execute_input": "2020-08-15T17:26:47.722223Z",
     "iopub.status.busy": "2020-08-15T17:26:47.721395Z",
     "iopub.status.idle": "2020-08-15T17:26:47.726500Z",
     "shell.execute_reply": "2020-08-15T17:26:47.725778Z"
    },
    "papermill": {
     "duration": 0.032498,
     "end_time": "2020-08-15T17:26:47.726633",
     "exception": false,
     "start_time": "2020-08-15T17:26:47.694135",
     "status": "completed"
    },
    "tags": []
   },
   "outputs": [],
   "source": [
    "test= test.drop(['keyword', 'location'], axis=1)"
   ]
  },
  {
   "cell_type": "code",
   "execution_count": 24,
   "metadata": {
    "execution": {
     "iopub.execute_input": "2020-08-15T17:26:47.788700Z",
     "iopub.status.busy": "2020-08-15T17:26:47.781396Z",
     "iopub.status.idle": "2020-08-15T17:26:52.929863Z",
     "shell.execute_reply": "2020-08-15T17:26:52.930549Z"
    },
    "papermill": {
     "duration": 5.184399,
     "end_time": "2020-08-15T17:26:52.930756",
     "exception": false,
     "start_time": "2020-08-15T17:26:47.746357",
     "status": "completed"
    },
    "tags": []
   },
   "outputs": [],
   "source": [
    "test[\"text_lemmatized\"] = test[\"text\"].apply(lambda text: lemmatize_words(text))"
   ]
  },
  {
   "cell_type": "code",
   "execution_count": 25,
   "metadata": {
    "execution": {
     "iopub.execute_input": "2020-08-15T17:26:52.998756Z",
     "iopub.status.busy": "2020-08-15T17:26:52.988194Z",
     "iopub.status.idle": "2020-08-15T17:26:53.124527Z",
     "shell.execute_reply": "2020-08-15T17:26:53.125179Z"
    },
    "papermill": {
     "duration": 0.172829,
     "end_time": "2020-08-15T17:26:53.125372",
     "exception": false,
     "start_time": "2020-08-15T17:26:52.952543",
     "status": "completed"
    },
    "tags": []
   },
   "outputs": [],
   "source": [
    "test_vectorizer = count_vectorizer.transform(test['text_lemmatized'])"
   ]
  },
  {
   "cell_type": "code",
   "execution_count": 26,
   "metadata": {
    "execution": {
     "iopub.execute_input": "2020-08-15T17:26:53.174218Z",
     "iopub.status.busy": "2020-08-15T17:26:53.173050Z",
     "iopub.status.idle": "2020-08-15T17:26:53.180724Z",
     "shell.execute_reply": "2020-08-15T17:26:53.180070Z"
    },
    "papermill": {
     "duration": 0.034502,
     "end_time": "2020-08-15T17:26:53.180881",
     "exception": false,
     "start_time": "2020-08-15T17:26:53.146379",
     "status": "completed"
    },
    "tags": []
   },
   "outputs": [
    {
     "data": {
      "text/plain": [
       "array([1, 1, 1, ..., 1, 1, 0])"
      ]
     },
     "execution_count": 26,
     "metadata": {},
     "output_type": "execute_result"
    }
   ],
   "source": [
    "#predict the target label for test set\n",
    "test_predictions = logreg.predict(test_vectorizer)\n",
    "test_predictions"
   ]
  },
  {
   "cell_type": "code",
   "execution_count": 27,
   "metadata": {
    "execution": {
     "iopub.execute_input": "2020-08-15T17:26:53.235239Z",
     "iopub.status.busy": "2020-08-15T17:26:53.234229Z",
     "iopub.status.idle": "2020-08-15T17:26:53.237839Z",
     "shell.execute_reply": "2020-08-15T17:26:53.237067Z"
    },
    "papermill": {
     "duration": 0.035017,
     "end_time": "2020-08-15T17:26:53.238009",
     "exception": false,
     "start_time": "2020-08-15T17:26:53.202992",
     "status": "completed"
    },
    "tags": []
   },
   "outputs": [],
   "source": [
    "submission = pd.DataFrame()\n",
    "submission['id'] = test['id']\n",
    "submission['target'] = test_predictions"
   ]
  },
  {
   "cell_type": "code",
   "execution_count": 28,
   "metadata": {
    "execution": {
     "iopub.execute_input": "2020-08-15T17:26:53.287844Z",
     "iopub.status.busy": "2020-08-15T17:26:53.286706Z",
     "iopub.status.idle": "2020-08-15T17:26:53.409642Z",
     "shell.execute_reply": "2020-08-15T17:26:53.408894Z"
    },
    "papermill": {
     "duration": 0.150216,
     "end_time": "2020-08-15T17:26:53.409795",
     "exception": false,
     "start_time": "2020-08-15T17:26:53.259579",
     "status": "completed"
    },
    "tags": []
   },
   "outputs": [
    {
     "data": {
      "text/html": [
       "<div>\n",
       "<style scoped>\n",
       "    .dataframe tbody tr th:only-of-type {\n",
       "        vertical-align: middle;\n",
       "    }\n",
       "\n",
       "    .dataframe tbody tr th {\n",
       "        vertical-align: top;\n",
       "    }\n",
       "\n",
       "    .dataframe thead th {\n",
       "        text-align: right;\n",
       "    }\n",
       "</style>\n",
       "<table border=\"1\" class=\"dataframe\">\n",
       "  <thead>\n",
       "    <tr style=\"text-align: right;\">\n",
       "      <th></th>\n",
       "      <th>id</th>\n",
       "      <th>target</th>\n",
       "    </tr>\n",
       "  </thead>\n",
       "  <tbody>\n",
       "    <tr>\n",
       "      <th>3258</th>\n",
       "      <td>10861</td>\n",
       "      <td>1</td>\n",
       "    </tr>\n",
       "    <tr>\n",
       "      <th>3259</th>\n",
       "      <td>10865</td>\n",
       "      <td>1</td>\n",
       "    </tr>\n",
       "    <tr>\n",
       "      <th>3260</th>\n",
       "      <td>10868</td>\n",
       "      <td>1</td>\n",
       "    </tr>\n",
       "    <tr>\n",
       "      <th>3261</th>\n",
       "      <td>10874</td>\n",
       "      <td>1</td>\n",
       "    </tr>\n",
       "    <tr>\n",
       "      <th>3262</th>\n",
       "      <td>10875</td>\n",
       "      <td>0</td>\n",
       "    </tr>\n",
       "  </tbody>\n",
       "</table>\n",
       "</div>"
      ],
      "text/plain": [
       "         id  target\n",
       "3258  10861       1\n",
       "3259  10865       1\n",
       "3260  10868       1\n",
       "3261  10874       1\n",
       "3262  10875       0"
      ]
     },
     "execution_count": 28,
     "metadata": {},
     "output_type": "execute_result"
    }
   ],
   "source": [
    "submission.to_csv(\"submission.csv\", index=False)\n",
    "\n",
    "submission.tail()"
   ]
  },
  {
   "cell_type": "markdown",
   "execution_count": null,
   "metadata": {
    "papermill": {
     "duration": 0.020493,
     "end_time": "2020-08-15T17:26:53.451713",
     "exception": false,
     "start_time": "2020-08-15T17:26:53.431220",
     "status": "completed"
    },
    "tags": []
   },
   "source": [
    "This is my baseline model and it is not better model either.\n",
    "\n",
    "Needs to re-evaulate the model performance and come up with better Text Preprocessing. Notebook will be updated subsequently"
   ]
  }
 ],
 "metadata": {
  "kernelspec": {
   "display_name": "Python 3",
   "language": "python",
   "name": "python3"
  },
  "language_info": {
   "codemirror_mode": {
    "name": "ipython",
    "version": 3
   },
   "file_extension": ".py",
   "mimetype": "text/x-python",
   "name": "python",
   "nbconvert_exporter": "python",
   "pygments_lexer": "ipython3",
   "version": "3.7.6"
  },
  "papermill": {
   "duration": 37.22186,
   "end_time": "2020-08-15T17:26:53.583137",
   "environment_variables": {},
   "exception": null,
   "input_path": "__notebook__.ipynb",
   "output_path": "__notebook__.ipynb",
   "parameters": {},
   "start_time": "2020-08-15T17:26:16.361277",
   "version": "2.1.0"
  }
 },
 "nbformat": 4,
 "nbformat_minor": 4
}
